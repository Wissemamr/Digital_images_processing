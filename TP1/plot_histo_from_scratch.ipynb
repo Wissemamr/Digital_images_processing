{
 "cells": [
  {
   "cell_type": "markdown",
   "metadata": {},
   "source": [
    "In this notebook, we will try to implement a histogram from scratch with just foor loops"
   ]
  },
  {
   "cell_type": "code",
   "execution_count": 41,
   "metadata": {},
   "outputs": [
    {
     "name": "stdout",
     "output_type": "stream",
     "text": [
      "0.00-0.52  | _\n",
      "0.52-1.03  | __\n",
      "1.03-1.55  | ________\n",
      "1.55-2.07  | __________\n",
      "2.07-2.59  | ________________\n",
      "2.59-3.10  | ________________________\n",
      "3.10-3.62  | __________________\n",
      "3.62-4.14  | ___________\n",
      "4.14-4.66  | ________\n",
      "4.66-5.17  | __\n"
     ]
    }
   ],
   "source": [
    "import numpy as np\n",
    "np.random.seed(40)\n",
    "def plot_histogram(data, bins=10):\n",
    "    #histogram borders\n",
    "    min_value, max_value = min(data), max(data)\n",
    "    bin_width = (max_value - min_value) / bins\n",
    "\n",
    "    histogram = [0] * bins\n",
    "\n",
    "    for value in data:\n",
    "        bin_index = int((value - min_value) / bin_width)\n",
    "        # Handle the case where value is equal to max_value\n",
    "        bin_index = min(bin_index, bins - 1)\n",
    "        histogram[bin_index] += 1\n",
    "\n",
    "    # Plot the histogram\n",
    "    # print(type(histogram))\n",
    "    for i, count in enumerate(histogram):\n",
    "        print(f\"{i * bin_width:.2f}-{(i + 1) * bin_width:.2f}  | {'_' * count}\")\n",
    "\n",
    "\n",
    "data_array= np.random.randn(100, )\n",
    "\n",
    "plot_histogram(data_array, bins=10)\n"
   ]
  }
 ],
 "metadata": {
  "kernelspec": {
   "display_name": "Python 3",
   "language": "python",
   "name": "python3"
  },
  "language_info": {
   "codemirror_mode": {
    "name": "ipython",
    "version": 3
   },
   "file_extension": ".py",
   "mimetype": "text/x-python",
   "name": "python",
   "nbconvert_exporter": "python",
   "pygments_lexer": "ipython3",
   "version": "3.10.11"
  }
 },
 "nbformat": 4,
 "nbformat_minor": 2
}
